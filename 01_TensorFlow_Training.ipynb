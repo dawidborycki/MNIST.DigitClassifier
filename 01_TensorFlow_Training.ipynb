{
 "cells": [
  {
   "cell_type": "code",
   "execution_count": null,
   "id": "1c5a4323",
   "metadata": {},
   "outputs": [],
   "source": [
    "from tensorflow import keras\n",
    "import matplotlib.pyplot as plt"
   ]
  },
  {
   "cell_type": "code",
   "execution_count": null,
   "id": "78ade4bf",
   "metadata": {},
   "outputs": [],
   "source": [
    "(train_images, train_labels), (test_images, test_labels) = keras.datasets.mnist.load_data()"
   ]
  },
  {
   "cell_type": "code",
   "execution_count": null,
   "id": "7be15b90",
   "metadata": {},
   "outputs": [],
   "source": [
    "# Class names\n",
    "class_names = range(10);\n",
    "\n",
    "# Preview train images\n",
    "rowCount = 6;\n",
    "colCount = 10;\n",
    "\n",
    "plt.figure(figsize=(10, 10))\n",
    "for i in range(rowCount * colCount):\n",
    "    plt.subplot(rowCount, colCount, i+1)    \n",
    "   \n",
    "    plt.xticks([])\n",
    "    plt.yticks([])\n",
    "\n",
    "    plt.imshow(train_images[i], cmap=plt.cm.binary)\n",
    "    plt.title(class_names[train_labels[i]], fontsize=25)"
   ]
  },
  {
   "cell_type": "code",
   "execution_count": null,
   "id": "05a53288",
   "metadata": {},
   "outputs": [],
   "source": [
    "train_images = train_images / 255.0;\n",
    "test_images = test_images / 255.0;"
   ]
  },
  {
   "cell_type": "code",
   "execution_count": null,
   "id": "8fd0f072",
   "metadata": {},
   "outputs": [],
   "source": [
    "model = keras.Sequential([\n",
    "    keras.layers.Flatten(input_shape=(28, 28)),\n",
    "    \n",
    "    keras.layers.Dense(64, activation='tanh'),\n",
    "\n",
    "    keras.layers.Dropout(.2),\n",
    "                         \n",
    "    keras.layers.Dense(128, activation='sigmoid'),\n",
    "\n",
    "    keras.layers.Dropout(.2),\n",
    "    \n",
    "    keras.layers.Dense(len(class_names), activation='softmax')\n",
    "])"
   ]
  },
  {
   "cell_type": "code",
   "execution_count": null,
   "id": "aa580513",
   "metadata": {},
   "outputs": [],
   "source": [
    "model.compile(optimizer='adam',\n",
    "              loss='sparse_categorical_crossentropy',\n",
    "              metrics=['accuracy'])"
   ]
  },
  {
   "cell_type": "code",
   "execution_count": null,
   "id": "3701d928",
   "metadata": {},
   "outputs": [],
   "source": [
    "model.summary()"
   ]
  },
  {
   "cell_type": "code",
   "execution_count": null,
   "id": "aca44ad8",
   "metadata": {},
   "outputs": [],
   "source": [
    "model.fit(train_images, train_labels, validation_data=(test_images, test_labels), epochs=10)"
   ]
  },
  {
   "cell_type": "code",
   "execution_count": null,
   "id": "d46577e2",
   "metadata": {},
   "outputs": [],
   "source": [
    "model.save('tf-model.tf', save_format='tf')"
   ]
  }
 ],
 "metadata": {
  "kernelspec": {
   "display_name": "Python 3 (ipykernel)",
   "language": "python",
   "name": "python3"
  },
  "language_info": {
   "codemirror_mode": {
    "name": "ipython",
    "version": 3
   },
   "file_extension": ".py",
   "mimetype": "text/x-python",
   "name": "python",
   "nbconvert_exporter": "python",
   "pygments_lexer": "ipython3",
   "version": "3.10.6"
  }
 },
 "nbformat": 4,
 "nbformat_minor": 5
}
