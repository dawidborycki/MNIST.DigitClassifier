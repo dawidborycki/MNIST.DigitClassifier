{
 "cells": [
  {
   "cell_type": "code",
   "execution_count": null,
   "id": "fb25e8c9",
   "metadata": {},
   "outputs": [],
   "source": [
    "import torch\n",
    "from torch import nn\n",
    "from torchvision import transforms, datasets\n",
    "from torch.utils.data import DataLoader\n",
    "import matplotlib.pyplot as plt\n",
    "import numpy as np"
   ]
  },
  {
   "cell_type": "code",
   "execution_count": null,
   "id": "5e7409a3",
   "metadata": {},
   "outputs": [],
   "source": [
    "class_names = range(10);\n",
    "\n",
    "class NeuralNetwork(nn.Module):\n",
    "    def __init__(self):\n",
    "        super(NeuralNetwork, self).__init__()\n",
    "        self.flatten = nn.Flatten()\n",
    "        self.linear_stack = nn.Sequential(\n",
    "            nn.Linear(28*28, 64),            \n",
    "            nn.Tanh(),            \n",
    "            nn.Dropout(.2),\n",
    "            \n",
    "            nn.Linear(64, 128),\n",
    "            nn.Sigmoid(),\n",
    "            nn.Dropout(.2),\n",
    "\n",
    "            nn.Linear(128, len(class_names)),\n",
    "            nn.Softmax(dim=1)\n",
    "        )\n",
    "\n",
    "    def forward(self, x):\n",
    "        x = self.flatten(x)\n",
    "        logits = self.linear_stack(x)\n",
    "        return logits"
   ]
  },
  {
   "cell_type": "code",
   "execution_count": null,
   "id": "82be2f2f",
   "metadata": {},
   "outputs": [],
   "source": [
    "model = NeuralNetwork()\n",
    "model.load_state_dict(torch.load(\"PyTorch-model.pth\"))"
   ]
  },
  {
   "cell_type": "code",
   "execution_count": null,
   "id": "c9984f4c",
   "metadata": {},
   "outputs": [],
   "source": [
    "# Test dataset\n",
    "test_data = datasets.MNIST(\n",
    "    root=\"data\",\n",
    "    train=False,\n",
    "    download=True,\n",
    "    transform=transforms.ToTensor()\n",
    ")\n",
    "\n",
    "# Dataloader\n",
    "batch_size = 10000\n",
    "test_dataloader = DataLoader(test_data, batch_size=batch_size)"
   ]
  },
  {
   "cell_type": "code",
   "execution_count": null,
   "id": "f51bf8ce",
   "metadata": {},
   "outputs": [],
   "source": [
    "# Get data\n",
    "test_images, test_labels = next(iter(test_dataloader))\n",
    "\n",
    "# Recognize digits\n",
    "prediction_result = model(test_images);\n",
    "\n",
    "# Get predicted labels\n",
    "predicted_labels = prediction_result.argmax(1);"
   ]
  },
  {
   "cell_type": "code",
   "execution_count": null,
   "id": "2532685c",
   "metadata": {
    "scrolled": false
   },
   "outputs": [],
   "source": [
    "# Get randomly selected image for preview\n",
    "preview_image_index = np.random.randint(0, test_images.shape[0] - 1)\n",
    "\n",
    "plt.figure()\n",
    "plt.xticks([])\n",
    "plt.yticks([])\n",
    "plt.grid(False)\n",
    "plt.imshow(test_images[preview_image_index][0].numpy(), cmap=plt.cm.binary)\n",
    "\n",
    "plt.xlabel(f\"Actual: {test_labels[preview_image_index]} \\n Predicted: {predicted_labels[preview_image_index]}\", fontsize=20);"
   ]
  },
  {
   "cell_type": "code",
   "execution_count": null,
   "id": "0e06a2d0",
   "metadata": {},
   "outputs": [],
   "source": [
    "from sklearn import metrics\n",
    "import seaborn as sns"
   ]
  },
  {
   "cell_type": "code",
   "execution_count": null,
   "id": "0f244b5f",
   "metadata": {},
   "outputs": [],
   "source": [
    "print(metrics.classification_report(test_labels, predicted_labels))"
   ]
  },
  {
   "cell_type": "code",
   "execution_count": null,
   "id": "5962c145",
   "metadata": {},
   "outputs": [],
   "source": [
    "confusion_matrix = metrics.confusion_matrix(test_labels, predicted_labels, labels=class_names);\n",
    "\n",
    "plt.figure(figsize=(10, 8))\n",
    "sns.heatmap(confusion_matrix,\n",
    "            xticklabels=class_names,\n",
    "            yticklabels=class_names,\n",
    "            annot=True, fmt='g');\n",
    "\n",
    "plt.xlabel('Predicted label', fontsize=20);\n",
    "plt.ylabel('True label', fontsize=20);"
   ]
  },
  {
   "cell_type": "code",
   "execution_count": null,
   "id": "5fb8b227",
   "metadata": {},
   "outputs": [],
   "source": []
  }
 ],
 "metadata": {
  "kernelspec": {
   "display_name": "Python 3 (ipykernel)",
   "language": "python",
   "name": "python3"
  },
  "language_info": {
   "codemirror_mode": {
    "name": "ipython",
    "version": 3
   },
   "file_extension": ".py",
   "mimetype": "text/x-python",
   "name": "python",
   "nbconvert_exporter": "python",
   "pygments_lexer": "ipython3",
   "version": "3.10.6"
  }
 },
 "nbformat": 4,
 "nbformat_minor": 5
}
