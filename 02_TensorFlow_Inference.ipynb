{
 "cells": [
  {
   "cell_type": "code",
   "execution_count": null,
   "id": "16ca0d74",
   "metadata": {},
   "outputs": [],
   "source": [
    "from tensorflow import keras\n",
    "import numpy as np\n",
    "import matplotlib.pyplot as plt"
   ]
  },
  {
   "cell_type": "code",
   "execution_count": null,
   "id": "a3ea50db",
   "metadata": {},
   "outputs": [],
   "source": [
    "# Load and prepare data\n",
    "_, (test_images, test_labels) = keras.datasets.mnist.load_data();\n",
    "test_images = test_images / 255.0;"
   ]
  },
  {
   "cell_type": "code",
   "execution_count": null,
   "id": "a2137802",
   "metadata": {},
   "outputs": [],
   "source": [
    "# Load model\n",
    "inputPath = 'tf-model.tf'\n",
    "model = keras.models.load_model(inputPath);\n",
    "\n",
    "# Recognize digits\n",
    "prediction_result = model.predict(test_images);\n",
    "\n",
    "# Get predicted labels\n",
    "predicted_labels = np.argmax(prediction_result, axis=1);"
   ]
  },
  {
   "cell_type": "code",
   "execution_count": null,
   "id": "1a4e6e3e",
   "metadata": {},
   "outputs": [],
   "source": [
    "# Get randomly selected image for preview\n",
    "preview_image_index = np.random.randint(0, test_images.shape[0] - 1)\n",
    "\n",
    "plt.figure()\n",
    "plt.xticks([])\n",
    "plt.yticks([])\n",
    "plt.grid(False)\n",
    "plt.imshow(test_images[preview_image_index], cmap=plt.cm.binary)\n",
    "\n",
    "plt.xlabel(f\"Actual: {test_labels[preview_image_index]} \\n Predicted: {predicted_labels[preview_image_index]}\", fontsize=20);"
   ]
  },
  {
   "cell_type": "code",
   "execution_count": null,
   "id": "3795f0f9",
   "metadata": {},
   "outputs": [],
   "source": [
    "from sklearn import metrics\n",
    "import seaborn as sns"
   ]
  },
  {
   "cell_type": "code",
   "execution_count": null,
   "id": "046dbd5f",
   "metadata": {},
   "outputs": [],
   "source": [
    "print(metrics.classification_report(test_labels, predicted_labels))"
   ]
  },
  {
   "cell_type": "code",
   "execution_count": null,
   "id": "29a7db18",
   "metadata": {},
   "outputs": [],
   "source": [
    "confusion_matrix = metrics.confusion_matrix(test_labels, predicted_labels, labels=class_names);\n",
    "\n",
    "class_names = range(10);\n",
    "\n",
    "plt.figure(figsize=(10, 8))\n",
    "sns.heatmap(confusion_matrix,\n",
    "            xticklabels=class_names,\n",
    "            yticklabels=class_names,\n",
    "            annot=True, fmt='g');\n",
    "\n",
    "plt.xlabel('Predicted label', fontsize=20);\n",
    "plt.ylabel('True label', fontsize=20);"
   ]
  }
 ],
 "metadata": {
  "kernelspec": {
   "display_name": "Python 3 (ipykernel)",
   "language": "python",
   "name": "python3"
  },
  "language_info": {
   "codemirror_mode": {
    "name": "ipython",
    "version": 3
   },
   "file_extension": ".py",
   "mimetype": "text/x-python",
   "name": "python",
   "nbconvert_exporter": "python",
   "pygments_lexer": "ipython3",
   "version": "3.10.6"
  }
 },
 "nbformat": 4,
 "nbformat_minor": 5
}
